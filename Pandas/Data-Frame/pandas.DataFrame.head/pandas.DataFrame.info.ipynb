{
 "cells": [
  {
   "cell_type": "code",
   "execution_count": 1,
   "metadata": {},
   "outputs": [],
   "source": [
    "# pandas.DataFrame.info ______________________________________________ Persian description\n",
    "# .info( verbose, buf, max_cols, memory_usage, show_counts)\n",
    "# ------ verbose:\n",
    "# False هست یا True آرگومانی که بهش میشه داد یا \n",
    "# باشد اطلاعات ستون ها که بصورت جدولی هست نشان نخواهد داد False اگر \n",
    "# در برنامه نویسی برای کدهای طولانی از این صفت استفاده می کنیم verbose از این لغت \n",
    "# به صورت دیفالت بدین صورت تنظیم شده:\n",
    "# pandas.options.display.max_info_columns\n",
    "# هست True و مقدار آن\n",
    "# (max_cols) پس با این پارامتر نمیتوانیم تعداد ستون هایی که میخواهیم در جدول مشاهده کنیم را تنظیم کنیم، که برای این کار پارامتر دیگه ای داریم\n",
    "# ------ buf:\n",
    "# دیگه ای بسازیم writable buffer نمایش داده می شود اما می توانیمsys.stdout خروجی این تابع به طور پیش فرض در \n",
    "# هست بریزیم txt بدین صورت که مثلا خروجی تابع رو در یک فایل دیگه که بصورت \n",
    "# ------ max_cols:\n",
    "# که با نشون ندادن جدول خلاصه رو بهمون میگه truncated هست که جدول هم تو خروجی نشون میده و دیگری  verbose ما کلا 2 نوع خروجی از این تابع میگیریم. یکی از اونها  \n",
    "# آرگومان این پارامتر بصورت عددی خواهد بود\n",
    "# خواهد بود verbose نشون میده و اگر کمتر باشه خروجی بصورت truncated یا به عبارتی تعداد ستون هایی که ما در فایل اکسل داشتیم، بیشتر باشه، بصورت pandas.options.display.max_info_columns یک حالت شرطی ایجاد میکنه بدین صورت که اگر اون عدد از\n",
    "# نشون داده میشه. چون بصورت دیفالت این پارامتر با همین عدد تنظیم شده verbose یا به عبارتی تعداد ستون تو فایل اکسل خونده شده، خروجی بصورت pandas.options.display.max_info_columns نکته مهم اینجاست که اگه آرگومان این پارامتر برابر باشه با \n",
    "# ------ memory_usage:\n",
    "# در خروجی نشان بدهد یا نه memory_usage\n",
    "# میتونه باشه deep ویا False یا True آرگومان این پارامتر یا \n",
    "# deep = \"True with deep  introspection\" => درست با درون نگری عمیق\n",
    "# (Binary number) نشان داده میشه در واحد های قابل خواندن توسط انسان Memory usage\n",
    "# مربوطه مصرف می کنند. dtypes و تعداد ردیف ها انجام می شود، با این فرض که مقادیر مقدار حافظه مشابهی را برای dtype تخمین حافظه بر اساس ستون\n",
    "# با درون نگری عمیق حافظه، یک محاسبه واقعی استفاده از حافظه با هزینه منابع محاسباتی انجام می شود\n",
    "# ------ show_counts:\n",
    "# است boolean استفاده میشه که آرگومان این پارامتر بصورت non-null counts برای قسمت\n",
    "# کمتر هست pandas.options.display.max_info_columns و pandas.options.display.max_info_rows ما از Data Frame زمانی نشان داده میشه که "
   ]
  },
  {
   "cell_type": "code",
   "execution_count": 2,
   "metadata": {},
   "outputs": [
    {
     "name": "stdout",
     "output_type": "stream",
     "text": [
      "☑️Data Frame:\n",
      "   int_col text_col  float_col\n",
      "0        1    alpha       0.00\n",
      "1        2     beta       0.25\n",
      "2        3    gamma       0.50\n",
      "3        4    delta       0.75\n",
      "4        5  epsilon       1.00 \n",
      "\n",
      "\n"
     ]
    }
   ],
   "source": [
    "import pandas as pd \n",
    "\n",
    "# Example - 1\n",
    "int_values = [1,2,3,4,5]\n",
    "text_values = ['alpha', 'beta', 'gamma', 'delta', 'epsilon']\n",
    "float_values = [0.0, 0.25, 0.5, 0.75, 1.0]\n",
    "df = pd.DataFrame({\"int_col\": int_values, \"text_col\": text_values, \"float_col\": float_values})\n",
    "print('☑️Data Frame:')\n",
    "print(df, '\\n' *2)"
   ]
  },
  {
   "cell_type": "code",
   "execution_count": 3,
   "metadata": {},
   "outputs": [
    {
     "name": "stdout",
     "output_type": "stream",
     "text": [
      "☑️Prints information of all columns:\n",
      "<class 'pandas.core.frame.DataFrame'>\n",
      "RangeIndex: 5 entries, 0 to 4\n",
      "Data columns (total 3 columns):\n",
      " #   Column     Non-Null Count  Dtype  \n",
      "---  ------     --------------  -----  \n",
      " 0   int_col    5 non-null      int64  \n",
      " 1   text_col   5 non-null      object \n",
      " 2   float_col  5 non-null      float64\n",
      "dtypes: float64(1), int64(1), object(1)\n",
      "memory usage: 252.0+ bytes\n",
      "\n",
      "\n",
      "\n"
     ]
    }
   ],
   "source": [
    "# Example - 2\n",
    "print('☑️Prints information of all columns:')\n",
    "df.info( verbose =True)\n",
    "print('\\n' *2)"
   ]
  },
  {
   "cell_type": "code",
   "execution_count": 4,
   "metadata": {},
   "outputs": [
    {
     "name": "stdout",
     "output_type": "stream",
     "text": [
      "☑️Prints a  summary  of columns count and its dtypes but not per column information:\n",
      "<class 'pandas.core.frame.DataFrame'>\n",
      "RangeIndex: 5 entries, 0 to 4\n",
      "Columns: 3 entries, int_col to float_col\n",
      "dtypes: float64(1), int64(1), object(1)\n",
      "memory usage: 252.0+ bytes\n",
      "\n",
      "\n",
      "\n"
     ]
    }
   ],
   "source": [
    "# Example - 3\n",
    "print('☑️Prints a  summary  of columns count and its dtypes but not per column information:')\n",
    "df.info( verbose =False)\n",
    "print('\\n' *2)"
   ]
  },
  {
   "cell_type": "code",
   "execution_count": 5,
   "metadata": {},
   "outputs": [
    {
     "name": "stdout",
     "output_type": "stream",
     "text": [
      "☑️Pipe output of DataFrame.info to buffer instead of sys.stdout, get buffer content and writes to a text file:\n",
      "<class 'pandas.core.frame.DataFrame'>\n",
      "RangeIndex: 5 entries, 0 to 4\n",
      "Data columns (total 3 columns):\n",
      " #   Column     Non-Null Count  Dtype  \n",
      "---  ------     --------------  -----  \n",
      " 0   int_col    5 non-null      int64  \n",
      " 1   text_col   5 non-null      object \n",
      " 2   float_col  5 non-null      float64\n",
      "dtypes: float64(1), int64(1), object(1)\n",
      "memory usage: 252.0+ bytes\n",
      "\n"
     ]
    }
   ],
   "source": [
    "# Example - 4\n",
    "print('☑️Pipe output of DataFrame.info to buffer instead of sys.stdout, get buffer content and writes to a text file:')\n",
    "import io\n",
    "buffer = io.StringIO()\n",
    "df.info(buf=buffer)\n",
    "s = buffer.getvalue()\n",
    "with open(\"df_info.txt\", \"w\", encoding=\"utf-8\") as f:  \n",
    "    f.write(s)\n",
    "file = open(\"df_info.txt\", \"r\")\n",
    "print(file.read())\n",
    "\n",
    "# For read about StringIO() and with statement Go to GeeksforGeeks Doc on Articul"
   ]
  }
 ],
 "metadata": {
  "kernelspec": {
   "display_name": "Python 3",
   "language": "python",
   "name": "python3"
  },
  "language_info": {
   "codemirror_mode": {
    "name": "ipython",
    "version": 3
   },
   "file_extension": ".py",
   "mimetype": "text/x-python",
   "name": "python",
   "nbconvert_exporter": "python",
   "pygments_lexer": "ipython3",
   "version": "3.12.0"
  }
 },
 "nbformat": 4,
 "nbformat_minor": 2
}
