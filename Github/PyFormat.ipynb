{
 "cells": [
  {
   "cell_type": "code",
   "execution_count": 72,
   "id": "83764c5e",
   "metadata": {},
   "outputs": [
    {
     "data": {
      "text/html": [
       "<style>.logo{line-height: 3rem;font-size: 2.0rem;font-weight: normal;color: #333;margin: 30px 0 0px 0;}.logo-b{color: #2b5b84;font-size: 4.2rem;line-height: 5rem;display: inline-block;margin-right: 1rem;background: #2b5b84;color: #FFF;padding: 5px 15px;border-radius: 8px;}.logo-b-i{color: #ffd343;}</style>"
      ],
      "text/plain": [
       "<IPython.core.display.HTML object>"
      ]
     },
     "execution_count": 72,
     "metadata": {},
     "output_type": "execute_result"
    }
   ],
   "source": [
    "#For Header Style\n",
    "from IPython.display import HTML\n",
    "style = \"<style>.logo{line-height: 3rem;font-size: 2.0rem;font-weight: normal;color: #333;margin: 30px 0 0px 0;}.logo-b{color: #2b5b84;font-size: 4.2rem;line-height: 5rem;display: inline-block;margin-right: 1rem;background: #2b5b84;color: #FFF;padding: 5px 15px;border-radius: 8px;}.logo-b-i{color: #ffd343;}</style>\"\n",
    "HTML(style)"
   ]
  },
  {
   "cell_type": "markdown",
   "id": "621bc204",
   "metadata": {},
   "source": [
    "<header>\n",
    "    <h1 class=\"logo\">\n",
    "        <b class=\"logo-b\"><i class=\"logo-b-i\">Py</i>Format</b> Using <i class=\"logo-b-i\">%</i> and <i class=\"logo-b-i\">.format()</i> for great good!\n",
    "    </h1>\n",
    "</header>"
   ]
  },
  {
   "cell_type": "markdown",
   "id": "0c6fae23",
   "metadata": {
    "direction": "rtl"
   },
   "source": [
    "# Basic formatting\n",
    "\n",
    "در روش قدیمی %s برای رشته ها استفاده میکینم و از %d برای اعداد. "
   ]
  },
  {
   "cell_type": "code",
   "execution_count": null,
   "id": "59924354",
   "metadata": {},
   "outputs": [],
   "source": [
    "# Old\n",
    "'%s %s' % ('one', 'two')"
   ]
  },
  {
   "cell_type": "code",
   "execution_count": null,
   "id": "5817032c",
   "metadata": {},
   "outputs": [],
   "source": [
    "# New\n",
    "# Empty in curly braces\n",
    "'{} {}'.format('one', 'two')"
   ]
  },
  {
   "cell_type": "code",
   "execution_count": null,
   "id": "ac12f3b0",
   "metadata": {},
   "outputs": [],
   "source": [
    "# Old\n",
    "'%d %d' % (1, 2)"
   ]
  },
  {
   "cell_type": "code",
   "execution_count": null,
   "id": "36e21f10",
   "metadata": {},
   "outputs": [],
   "source": [
    "# New\n",
    "'{} {}'.format(1, 2)"
   ]
  },
  {
   "cell_type": "markdown",
   "id": "e34b2b10",
   "metadata": {
    "direction": "rtl"
   },
   "source": [
    "با style formatting جدید (نسخه 2.6 پایتون) به مقادیری که میخوایم تو رشته الحاق کنیم index مخصوص خودشون داده شده که از 0 شروع میشه."
   ]
  },
  {
   "cell_type": "code",
   "execution_count": null,
   "id": "34cee99f",
   "metadata": {},
   "outputs": [],
   "source": [
    "# positonal index in curly braces\n",
    "'{1} {0}'.format('one', 'two')"
   ]
  },
  {
   "cell_type": "markdown",
   "id": "ba6f0bd7",
   "metadata": {
    "direction": "rtl"
   },
   "source": [
    "# Value conversion\n",
    "تو نسخه های جدید از ()__ format__ برای نمایش آبجکت استفاده میشه.\n",
    "\n",
    "اگه فقط بخوایم خروجی (...)repr یا (...)str رو ببینیم از پرچم های تبدیل (conversion flags) r! یا s! باید استفاده کینم.\n",
    "\n"
   ]
  },
  {
   "cell_type": "code",
   "execution_count": null,
   "id": "715bda83",
   "metadata": {},
   "outputs": [],
   "source": [
    "# Setup\n",
    "class Data(object):\n",
    "\n",
    "    def __str__(self):\n",
    "        return 'str'\n",
    "\n",
    "    def __repr__(self):\n",
    "        return 'repr'"
   ]
  },
  {
   "cell_type": "code",
   "execution_count": null,
   "id": "1d833118",
   "metadata": {},
   "outputs": [],
   "source": [
    "# Old\n",
    "'%s %r' % (Data(), Data())"
   ]
  },
  {
   "cell_type": "code",
   "execution_count": null,
   "id": "46555783",
   "metadata": {},
   "outputs": [],
   "source": [
    "# New\n",
    "'{0!s} {0!r}'.format(Data())"
   ]
  },
  {
   "cell_type": "markdown",
   "id": "3356b56a",
   "metadata": {
    "direction": "rtl"
   },
   "source": [
    "در پایتون 3 یک پرچم تبدیل اضافی وجود دارد که از خروجی repr(...) استفاده می کند اما به جای آن از ascii (...) استفاده می کند."
   ]
  },
  {
   "cell_type": "code",
   "execution_count": null,
   "id": "903dc330",
   "metadata": {},
   "outputs": [],
   "source": [
    "# Setup\n",
    "class Data(object):\n",
    "\n",
    "    def __repr__(self):\n",
    "        return 'räpr'"
   ]
  },
  {
   "cell_type": "code",
   "execution_count": null,
   "id": "99022b35",
   "metadata": {},
   "outputs": [],
   "source": [
    "# Old\n",
    "'%r %a' % (Data(), Data())"
   ]
  },
  {
   "cell_type": "code",
   "execution_count": null,
   "id": "742613ba",
   "metadata": {},
   "outputs": [],
   "source": [
    "# New\n",
    "'{0!r} {0!a}'.format(Data())"
   ]
  },
  {
   "cell_type": "markdown",
   "id": "387f873f",
   "metadata": {
    "direction": "rtl"
   },
   "source": [
    "xe4 که در خروجی Hex Code ه حرف لاتین ä می باشد. "
   ]
  },
  {
   "cell_type": "markdown",
   "id": "b62c7b81",
   "metadata": {
    "direction": "rtl"
   },
   "source": [
    "# Padding and aligning strings\n",
    "به طور پیش فرض، مقادیر (values) به گونه ای فرم بندی می شوند که تنها به تعداد کاراکترهای مورد نیاز برای نمایش محتوا بپردازند.\n",
    "\n",
    "متأسفانه تراز پیش فرض بین قالب بندی سبک قدیمی و جدید متفاوت است. سبک قدیمی به صورت پیش‌فرض در تراز راست قرار دارد در حالی که برای سبک جدید به سمت چپ است.\n",
    "\n",
    "جدیده خیلی بهتره چون فارسی نوشتنی هم از راست تنظیم میکنه ولی انگلیسی نوشتنی برعکس، از چپ تنظیم میکنه. اما قدیمیه کلا برعکسه."
   ]
  },
  {
   "cell_type": "markdown",
   "id": "28ce3b6c",
   "metadata": {},
   "source": [
    "**Align right:**\n",
    "\n",
    "برای متن های فارسی خوبه"
   ]
  },
  {
   "cell_type": "code",
   "execution_count": null,
   "id": "0a614608",
   "metadata": {},
   "outputs": [],
   "source": [
    "# Old\n",
    "'%10s' % ('test',)"
   ]
  },
  {
   "cell_type": "code",
   "execution_count": null,
   "id": "7ed669f9",
   "metadata": {},
   "outputs": [],
   "source": [
    "# New\n",
    "'{:>10}'.format('test')"
   ]
  },
  {
   "cell_type": "code",
   "execution_count": null,
   "id": "ed195caa",
   "metadata": {},
   "outputs": [],
   "source": [
    "# New\n",
    "# با اینکه کوچکتر از 10 نذاشتیم و بصورت دیفالت برا فارسی خوبه و همینطور به صورت دیفالت برای انگلیسی\n",
    "'{:10}'.format('تست')"
   ]
  },
  {
   "cell_type": "markdown",
   "id": "0ec016a4",
   "metadata": {},
   "source": [
    "**Align left:**"
   ]
  },
  {
   "cell_type": "code",
   "execution_count": 1,
   "id": "961cb18c",
   "metadata": {},
   "outputs": [
    {
     "data": {
      "text/plain": [
       "'test      '"
      ]
     },
     "execution_count": 1,
     "metadata": {},
     "output_type": "execute_result"
    }
   ],
   "source": [
    "'%-10s' % ('test')"
   ]
  },
  {
   "cell_type": "code",
   "execution_count": 2,
   "id": "323403ab",
   "metadata": {},
   "outputs": [
    {
     "data": {
      "text/plain": [
       "'test      '"
      ]
     },
     "execution_count": 2,
     "metadata": {},
     "output_type": "execute_result"
    }
   ],
   "source": [
    "'{:10}'.format('test')"
   ]
  },
  {
   "cell_type": "markdown",
   "id": "50b05de1",
   "metadata": {
    "direction": "rtl"
   },
   "source": [
    "جدداً، قالب بندی سبک جدید با ارائه کنترل بیشتر بر نحوه قرار دادن و تراز کردن مقادیر، از نوع قدیمی پیشی می گیرد."
   ]
  },
  {
   "cell_type": "markdown",
   "id": "f48a0dab",
   "metadata": {},
   "source": [
    "**You are able to choose the padding character:**"
   ]
  },
  {
   "cell_type": "code",
   "execution_count": 7,
   "id": "48c9154c",
   "metadata": {},
   "outputs": [
    {
     "data": {
      "text/plain": [
       "'______test'"
      ]
     },
     "execution_count": 7,
     "metadata": {},
     "output_type": "execute_result"
    }
   ],
   "source": [
    "# New\n",
    "'{:_>10}'.format('test')"
   ]
  },
  {
   "cell_type": "markdown",
   "id": "9c851acf",
   "metadata": {},
   "source": [
    "**And also center align values:**"
   ]
  },
  {
   "cell_type": "code",
   "execution_count": 8,
   "id": "5aafa1f3",
   "metadata": {},
   "outputs": [
    {
     "data": {
      "text/plain": [
       "'   test   '"
      ]
     },
     "execution_count": 8,
     "metadata": {},
     "output_type": "execute_result"
    }
   ],
   "source": [
    "# New\n",
    "'{:^10}'.format('test')"
   ]
  },
  {
   "cell_type": "markdown",
   "id": "7875fdc9",
   "metadata": {
    "direction": "rtl"
   },
   "source": [
    "هنگام استفاده از center align جایی که طول رشته منجر به تقسیم ناهموار کاراکترهای padding می شود، کاراکتر اضافی در سمت راست قرار می گیرد:"
   ]
  },
  {
   "cell_type": "code",
   "execution_count": 9,
   "id": "9ecbc58a",
   "metadata": {},
   "outputs": [
    {
     "data": {
      "text/plain": [
       "' zip  '"
      ]
     },
     "execution_count": 9,
     "metadata": {},
     "output_type": "execute_result"
    }
   ],
   "source": [
    "# New\n",
    "'{:^6}'.format('zip')"
   ]
  },
  {
   "cell_type": "markdown",
   "id": "c4bed38c",
   "metadata": {
    "direction": "rtl"
   },
   "source": [
    "# Truncating long strings\n",
    "برعکس padding همچنین امکان پذیره برامون تا مقادیر بسیارطولانی را به تعداد مشخص کاراکتر کوتاه کرد.\n",
    "\n",
    "عدد پشت a .در فرمت دقت خروجی را مشخص می کند. برای رشته ها به این معنی است که خروجی به طول مشخص کوتاه شده است. در مثال ما این 5 کاراکتر خواهد بود."
   ]
  },
  {
   "cell_type": "code",
   "execution_count": 13,
   "id": "34806426",
   "metadata": {},
   "outputs": [
    {
     "data": {
      "text/plain": [
       "'xylop'"
      ]
     },
     "execution_count": 13,
     "metadata": {},
     "output_type": "execute_result"
    }
   ],
   "source": [
    "# Old\n",
    "'%.5s' % ('xylophone',)"
   ]
  },
  {
   "cell_type": "code",
   "execution_count": 26,
   "id": "5ac0a08c",
   "metadata": {},
   "outputs": [
    {
     "data": {
      "text/plain": [
       "'xylop'"
      ]
     },
     "execution_count": 26,
     "metadata": {},
     "output_type": "execute_result"
    }
   ],
   "source": [
    "# New\n",
    "'{:.5}'.format('xylophone')"
   ]
  },
  {
   "cell_type": "markdown",
   "id": "ce350a3f",
   "metadata": {
    "direction": "rtl"
   },
   "source": [
    "# Combining truncating and padding\n",
    "\n",
    "همچنین امکان ترکیب برش و Padding وجود دارد:"
   ]
  },
  {
   "cell_type": "code",
   "execution_count": 27,
   "id": "f3fd9a8b",
   "metadata": {},
   "outputs": [
    {
     "data": {
      "text/plain": [
       "'xylop     '"
      ]
     },
     "execution_count": 27,
     "metadata": {},
     "output_type": "execute_result"
    }
   ],
   "source": [
    "# Old\n",
    "'%-10.5s' % ('xylophone',)"
   ]
  },
  {
   "cell_type": "code",
   "execution_count": 28,
   "id": "4de3ab45",
   "metadata": {},
   "outputs": [
    {
     "data": {
      "text/plain": [
       "'xylop     '"
      ]
     },
     "execution_count": 28,
     "metadata": {},
     "output_type": "execute_result"
    }
   ],
   "source": [
    "# New \n",
    "'{:10.5}'.format('xylophone')"
   ]
  },
  {
   "cell_type": "markdown",
   "id": "f752b94d",
   "metadata": {
    "direction": "rtl"
   },
   "source": [
    "# Numbers\n",
    "\n",
    "البته امکان فرمت اعداد نیز وجود دارد."
   ]
  },
  {
   "cell_type": "markdown",
   "id": "e09f1f30",
   "metadata": {},
   "source": [
    "**Integers:**"
   ]
  },
  {
   "cell_type": "code",
   "execution_count": 29,
   "id": "4fd1dc30",
   "metadata": {},
   "outputs": [
    {
     "data": {
      "text/plain": [
       "'42'"
      ]
     },
     "execution_count": 29,
     "metadata": {},
     "output_type": "execute_result"
    }
   ],
   "source": [
    "# Old\n",
    "'%d' % (42,)"
   ]
  },
  {
   "cell_type": "code",
   "execution_count": 38,
   "id": "5553c558",
   "metadata": {},
   "outputs": [
    {
     "data": {
      "text/plain": [
       "'42'"
      ]
     },
     "execution_count": 38,
     "metadata": {},
     "output_type": "execute_result"
    }
   ],
   "source": [
    "# New\n",
    "'{:d}'.format(42)"
   ]
  },
  {
   "cell_type": "markdown",
   "id": "ae8b4fe7",
   "metadata": {},
   "source": [
    "**Floats:**"
   ]
  },
  {
   "cell_type": "code",
   "execution_count": 31,
   "id": "ab2c5a8a",
   "metadata": {},
   "outputs": [
    {
     "data": {
      "text/plain": [
       "'3.141593'"
      ]
     },
     "execution_count": 31,
     "metadata": {},
     "output_type": "execute_result"
    }
   ],
   "source": [
    "#old\n",
    "'%f' % (3.141592653589793,)"
   ]
  },
  {
   "cell_type": "code",
   "execution_count": 39,
   "id": "61c7267a",
   "metadata": {},
   "outputs": [
    {
     "data": {
      "text/plain": [
       "'3.141593'"
      ]
     },
     "execution_count": 39,
     "metadata": {},
     "output_type": "execute_result"
    }
   ],
   "source": [
    "# New\n",
    "'{:f}'.format(3.141592653589793)"
   ]
  },
  {
   "cell_type": "markdown",
   "id": "99807751",
   "metadata": {
    "direction": "rtl"
   },
   "source": [
    "# Padding numbers\n",
    "اعداد مشابه رشته ها نیز می توانند به یک عرض خاص محدود شوند."
   ]
  },
  {
   "cell_type": "code",
   "execution_count": 35,
   "id": "4d25dda5",
   "metadata": {},
   "outputs": [
    {
     "data": {
      "text/plain": [
       "'  42'"
      ]
     },
     "execution_count": 35,
     "metadata": {},
     "output_type": "execute_result"
    }
   ],
   "source": [
    "# Old\n",
    "'%4d' % (42,)"
   ]
  },
  {
   "cell_type": "code",
   "execution_count": 36,
   "id": "85e5c674",
   "metadata": {},
   "outputs": [
    {
     "data": {
      "text/plain": [
       "'  42'"
      ]
     },
     "execution_count": 36,
     "metadata": {},
     "output_type": "execute_result"
    }
   ],
   "source": [
    "# New\n",
    "'{:4d}'.format(42)"
   ]
  },
  {
   "cell_type": "markdown",
   "id": "a9ddfaba",
   "metadata": {
    "direction": "rtl"
   },
   "source": [
    "همانند truncating strings دقت (precision) برای اعداد اعشاری، اعداد در پوزیشن بعد از نقطه اعشار رو محدود میکند.\n",
    "\n",
    "برای نقاط شناور، مقدار padding نشان دهنده طول خروجی کامل است. در مثال زیر می خواهیم خروجی ما حداقل 6 کاراکتر داشته باشد که 2 کاراکتر بعد از نقطه اعشار باشد."
   ]
  },
  {
   "cell_type": "code",
   "execution_count": null,
   "id": "fc1ad779",
   "metadata": {},
   "outputs": [],
   "source": [
    "# Old\n",
    "'%06.2f' % (3.141592653589793,)"
   ]
  },
  {
   "cell_type": "code",
   "execution_count": null,
   "id": "bddaef93",
   "metadata": {},
   "outputs": [],
   "source": [
    "# New\n",
    "'{:06.2f}'.format(3.141592653589793)"
   ]
  },
  {
   "cell_type": "markdown",
   "id": "633a7cf8",
   "metadata": {
    "direction": "rtl"
   },
   "source": [
    "برای مقادیر صحیح ارائه یک دقت چندان منطقی نیست و در واقع در سبک جدید ممنوع است (این امر منجر به ValueError خواهد شد)."
   ]
  },
  {
   "cell_type": "code",
   "execution_count": null,
   "id": "b5acadee",
   "metadata": {},
   "outputs": [],
   "source": [
    "# Old\n",
    "'%04d' % (42,)"
   ]
  },
  {
   "cell_type": "code",
   "execution_count": null,
   "id": "0e323640",
   "metadata": {},
   "outputs": [],
   "source": [
    "# New\n",
    "'{:04d}'.format(42)"
   ]
  },
  {
   "cell_type": "markdown",
   "id": "806e1844",
   "metadata": {
    "direction": "rtl"
   },
   "source": [
    "# Signed numbers\n",
    "به طور پیش فرض فقط اعداد منفی با علامت پیشوند هستند. این البته قابل تغییر است."
   ]
  },
  {
   "cell_type": "code",
   "execution_count": 40,
   "id": "c956ed34",
   "metadata": {},
   "outputs": [
    {
     "data": {
      "text/plain": [
       "'+42'"
      ]
     },
     "execution_count": 40,
     "metadata": {},
     "output_type": "execute_result"
    }
   ],
   "source": [
    "# Old\n",
    "'%+d' % (42,)"
   ]
  },
  {
   "cell_type": "code",
   "execution_count": 41,
   "id": "60e47683",
   "metadata": {},
   "outputs": [
    {
     "data": {
      "text/plain": [
       "'+42'"
      ]
     },
     "execution_count": 41,
     "metadata": {},
     "output_type": "execute_result"
    }
   ],
   "source": [
    "# New\n",
    "'{:+d}'.format(42)"
   ]
  },
  {
   "cell_type": "markdown",
   "id": "98fa5531",
   "metadata": {
    "direction": "rtl"
   },
   "source": [
    "از یک کاراکتر فاصله برای نشان دادن اینکه اعداد منفی باید با علامت منهای پیشوند و برای اعداد مثبت از یک فاصله اصلی استفاده کنید استفاده کنید."
   ]
  },
  {
   "cell_type": "code",
   "execution_count": 45,
   "id": "9d926f98",
   "metadata": {},
   "outputs": [
    {
     "data": {
      "text/plain": [
       "'-23'"
      ]
     },
     "execution_count": 45,
     "metadata": {},
     "output_type": "execute_result"
    }
   ],
   "source": [
    "# Old\n",
    "'% d' % ((- 23),)"
   ]
  },
  {
   "cell_type": "code",
   "execution_count": 52,
   "id": "f66a01ca",
   "metadata": {},
   "outputs": [
    {
     "data": {
      "text/plain": [
       "'-23'"
      ]
     },
     "execution_count": 52,
     "metadata": {},
     "output_type": "execute_result"
    }
   ],
   "source": [
    "# New\n",
    "'{: d}'.format((- 23))"
   ]
  },
  {
   "cell_type": "code",
   "execution_count": 53,
   "id": "d35e208c",
   "metadata": {},
   "outputs": [
    {
     "data": {
      "text/plain": [
       "' 42'"
      ]
     },
     "execution_count": 53,
     "metadata": {},
     "output_type": "execute_result"
    }
   ],
   "source": [
    "# Old\n",
    "'% d' % (42,)"
   ]
  },
  {
   "cell_type": "code",
   "execution_count": 55,
   "id": "251ce7c4",
   "metadata": {},
   "outputs": [
    {
     "data": {
      "text/plain": [
       "' 42'"
      ]
     },
     "execution_count": 55,
     "metadata": {},
     "output_type": "execute_result"
    }
   ],
   "source": [
    "# New\n",
    "'{: d}'.format(42)"
   ]
  },
  {
   "cell_type": "markdown",
   "id": "c5812358",
   "metadata": {
    "direction": "rtl"
   },
   "source": [
    "style formatting جدید همچنین می تواند موقعیت نماد علامت را نسبت به padding کنترل کند."
   ]
  },
  {
   "cell_type": "code",
   "execution_count": 56,
   "id": "8ff84c3b",
   "metadata": {},
   "outputs": [
    {
     "data": {
      "text/plain": [
       "'-  23'"
      ]
     },
     "execution_count": 56,
     "metadata": {},
     "output_type": "execute_result"
    }
   ],
   "source": [
    "# New\n",
    "'{:=5d}'.format((- 23))"
   ]
  },
  {
   "cell_type": "code",
   "execution_count": 57,
   "id": "e007ed3f",
   "metadata": {},
   "outputs": [
    {
     "data": {
      "text/plain": [
       "'+  23'"
      ]
     },
     "execution_count": 57,
     "metadata": {},
     "output_type": "execute_result"
    }
   ],
   "source": [
    "# New\n",
    "'{:=+5d}'.format(23)\n"
   ]
  },
  {
   "cell_type": "markdown",
   "id": "8a898deb",
   "metadata": {
    "direction": "rtl"
   },
   "source": [
    "# Named placeholders\n",
    "هر دو سبک قالب بندی از متغیرهایی با نام پشتیبانی می کنند. (placeholders)"
   ]
  },
  {
   "cell_type": "code",
   "execution_count": null,
   "id": "f6d27cb2",
   "metadata": {},
   "outputs": [],
   "source": [
    "# Setup\n",
    "data = {'first': 'Hodor', 'last': 'Hodor!'}"
   ]
  },
  {
   "cell_type": "code",
   "execution_count": null,
   "id": "a867a3e7",
   "metadata": {},
   "outputs": [],
   "source": [
    "# Old\n",
    "'%(first)s %(last)s' % data"
   ]
  },
  {
   "cell_type": "code",
   "execution_count": null,
   "id": "2c6fe94d",
   "metadata": {},
   "outputs": [],
   "source": [
    "# New\n",
    "'{first} {last}'.format(**data)"
   ]
  },
  {
   "cell_type": "markdown",
   "id": "9f2409f0",
   "metadata": {
    "direction": "rtl"
   },
   "source": [
    "format()آرگومان های کلمه کلیدی را نیز می پذیرد."
   ]
  },
  {
   "cell_type": "code",
   "execution_count": null,
   "id": "8a6f5e35",
   "metadata": {},
   "outputs": [],
   "source": [
    "# New\n",
    "'{first} {last}'.format(first='Hodor', last='Hodor!')"
   ]
  },
  {
   "cell_type": "markdown",
   "id": "565ffd55",
   "metadata": {
    "direction": "rtl"
   },
   "source": [
    "# Getitem and Getattr\n",
    " style formatting تازه امکان انعطاف پذیری بیشتری رو بهمون میده تا بتونیم مقادیر داخل ساختار داده های تو در تو هم در داخل رشته بیاریم.\n",
    " \n",
    " از کانتینرهایی ساپورت میشه که __getitem__ رو پشتیبانی میکنند مثل dictionaries and lists."
   ]
  },
  {
   "cell_type": "code",
   "execution_count": null,
   "id": "c34a6c42",
   "metadata": {},
   "outputs": [],
   "source": [
    "# Setup\n",
    "person = {'first': 'Jean-Luc', 'last': 'Picard'}"
   ]
  },
  {
   "cell_type": "code",
   "execution_count": null,
   "id": "4ac9fc3f",
   "metadata": {},
   "outputs": [],
   "source": [
    "# New\n",
    "'{p[first]} {p[last]}'.format(p=person)"
   ]
  },
  {
   "cell_type": "code",
   "execution_count": null,
   "id": "571cdff6",
   "metadata": {},
   "outputs": [],
   "source": [
    "# Setup\n",
    "data = [4, 8, 15, 16, 23, 42]"
   ]
  },
  {
   "cell_type": "code",
   "execution_count": null,
   "id": "aab96c37",
   "metadata": {},
   "outputs": [],
   "source": [
    "# New\n",
    "'{d[4]} {d[5]}'.format(d=data)"
   ]
  },
  {
   "cell_type": "markdown",
   "id": "a654da93",
   "metadata": {
    "direction": "rtl"
   },
   "source": [
    "و همچنین دسترسی به ویژگی های روی اشیاء از طریق getattr():"
   ]
  },
  {
   "cell_type": "code",
   "execution_count": null,
   "id": "5480cfaf",
   "metadata": {},
   "outputs": [],
   "source": [
    "# Setup\n",
    "class Plant(object):\n",
    "    type = 'tree'"
   ]
  },
  {
   "cell_type": "code",
   "execution_count": null,
   "id": "d272c390",
   "metadata": {},
   "outputs": [],
   "source": [
    "# New\n",
    "'{p.type}'.format(p=Plant())"
   ]
  },
  {
   "cell_type": "markdown",
   "id": "b7043d93",
   "metadata": {
    "direction": "rtl"
   },
   "source": [
    "هر دو نوع دسترسی را می توان آزادانه مخلوط کرد و به طور دلخواه تو در تو قرار داد:"
   ]
  },
  {
   "cell_type": "code",
   "execution_count": null,
   "id": "e8b48e9e",
   "metadata": {},
   "outputs": [],
   "source": [
    "# Setup\n",
    "class Plant(object):\n",
    "    type = 'tree'\n",
    "    kinds = [{'name': 'oak'}, {'name': 'maple'}]"
   ]
  },
  {
   "cell_type": "code",
   "execution_count": null,
   "id": "e4c1bc77",
   "metadata": {},
   "outputs": [],
   "source": [
    "# New\n",
    "'{p.type}: {p.kinds[0][name]}'.format(p=Plant())"
   ]
  },
  {
   "cell_type": "markdown",
   "id": "fb450ffd",
   "metadata": {
    "direction": "rtl"
   },
   "source": [
    "# Datetime   \n"
   ]
  },
  {
   "cell_type": "code",
   "execution_count": null,
   "id": "5abbe123",
   "metadata": {},
   "outputs": [],
   "source": [
    "from datetime import datetime"
   ]
  },
  {
   "cell_type": "code",
   "execution_count": null,
   "id": "1e55bc7e",
   "metadata": {},
   "outputs": [],
   "source": [
    "'{}'.format(datetime(2001, 2, 3, 4, 5))"
   ]
  },
  {
   "cell_type": "markdown",
   "id": "3c618155",
   "metadata": {},
   "source": [
    "%Y: Year\n",
    "\n",
    "%m: month\n",
    "\n",
    "%d: day\n",
    "\n",
    "%H: Hours\n",
    "\n",
    "%M: Minute"
   ]
  },
  {
   "cell_type": "code",
   "execution_count": null,
   "id": "87ae6539",
   "metadata": {},
   "outputs": [],
   "source": [
    "'{:%Y/%m/%d %H:%M}'.format(datetime(2001, 2, 3, 4, 5))"
   ]
  },
  {
   "cell_type": "code",
   "execution_count": null,
   "id": "cd5e7f07",
   "metadata": {},
   "outputs": [],
   "source": [
    "# Now Time\n",
    "'{}'.format(datetime.now())"
   ]
  },
  {
   "cell_type": "markdown",
   "id": "8bcce9f7",
   "metadata": {
    "direction": "rtl"
   },
   "source": [
    "# Parametrized formats\n",
    "میتونم برای style formatting پارامتر در نظر بگیریم. که پارامتر هارو درتابع ()format مشخص میکنیم و در استرینگ بعد از colon نوشته میشن.\n",
    "\n",
    "در style formatting قدیمی هم میشد parametrization (پارامتر سازی) کرد اما فقط به width and precision محدود میشد."
   ]
  },
  {
   "cell_type": "markdown",
   "id": "7f42e842",
   "metadata": {},
   "source": [
    "Parametrized alignment and width:"
   ]
  },
  {
   "cell_type": "code",
   "execution_count": 61,
   "id": "a157e9df",
   "metadata": {},
   "outputs": [
    {
     "data": {
      "text/plain": [
       "'   test   '"
      ]
     },
     "execution_count": 61,
     "metadata": {},
     "output_type": "execute_result"
    }
   ],
   "source": [
    "# New\n",
    "'{varible:{align}{width}}'.format(varible='test', align='^', width='10')"
   ]
  },
  {
   "cell_type": "markdown",
   "id": "1f47b69d",
   "metadata": {},
   "source": [
    "Parametrized precision:"
   ]
  },
  {
   "cell_type": "code",
   "execution_count": 62,
   "id": "11db87f3",
   "metadata": {},
   "outputs": [
    {
     "data": {
      "text/plain": [
       "'Gib = 2.718'"
      ]
     },
     "execution_count": 62,
     "metadata": {},
     "output_type": "execute_result"
    }
   ],
   "source": [
    "# Old\n",
    "'%.*s = %.*f' % (3, 'Gibberish', 3, 2.7182)"
   ]
  },
  {
   "cell_type": "code",
   "execution_count": 69,
   "id": "8542ad90",
   "metadata": {},
   "outputs": [
    {
     "data": {
      "text/plain": [
       "'Gib = 2.718'"
      ]
     },
     "execution_count": 69,
     "metadata": {},
     "output_type": "execute_result"
    }
   ],
   "source": [
    "# New\n",
    "'{:.{prec}} = {:.{prec}f}'.format('Gibberish', 2.7182, prec=3)"
   ]
  },
  {
   "cell_type": "markdown",
   "id": "f0230ebd",
   "metadata": {},
   "source": [
    "Width and precision:"
   ]
  },
  {
   "cell_type": "code",
   "execution_count": 70,
   "id": "16af6a4f",
   "metadata": {},
   "outputs": [
    {
     "data": {
      "text/plain": [
       "' 2.72'"
      ]
     },
     "execution_count": 70,
     "metadata": {},
     "output_type": "execute_result"
    }
   ],
   "source": [
    "'%*.*f' % (5, 2, 2.7182)"
   ]
  },
  {
   "cell_type": "code",
   "execution_count": 71,
   "id": "3edeb00d",
   "metadata": {},
   "outputs": [
    {
     "data": {
      "text/plain": [
       "' 2.72'"
      ]
     },
     "execution_count": 71,
     "metadata": {},
     "output_type": "execute_result"
    }
   ],
   "source": [
    "'{:{width}.{prec}f}'.format(2.7182, width=5, prec=2)"
   ]
  },
  {
   "cell_type": "markdown",
   "id": "d91af6c4",
   "metadata": {
    "direction": "rtl"
   },
   "source": [
    " nested format رو می توان برای جایگزینی هر بخشی از format spec استفاده کرد.\n",
    " \n",
    " "
   ]
  },
  {
   "cell_type": "code",
   "execution_count": 73,
   "id": "8005d15e",
   "metadata": {},
   "outputs": [
    {
     "data": {
      "text/plain": [
       "'Gib = 2.72'"
      ]
     },
     "execution_count": 73,
     "metadata": {},
     "output_type": "execute_result"
    }
   ],
   "source": [
    "'{:{prec}} = {:{prec}}'.format('Gibberish', 2.7182, prec='.3')"
   ]
  },
  {
   "cell_type": "markdown",
   "id": "6b24c644",
   "metadata": {},
   "source": [
    "The components of a date-time can be set separately:"
   ]
  },
  {
   "cell_type": "code",
   "execution_count": 74,
   "id": "0cb8ca89",
   "metadata": {},
   "outputs": [],
   "source": [
    "# Setup\n",
    "from datetime import datetime\n",
    "dt = datetime(2001, 2, 3, 4, 5)"
   ]
  },
  {
   "cell_type": "code",
   "execution_count": 76,
   "id": "29f0f5db",
   "metadata": {},
   "outputs": [
    {
     "data": {
      "text/plain": [
       "'2001-02-03 04:05'"
      ]
     },
     "execution_count": 76,
     "metadata": {},
     "output_type": "execute_result"
    }
   ],
   "source": [
    "# New\n",
    "'{:{dfmt} {tfmt}}'.format(dt, dfmt='%Y-%m-%d', tfmt='%H:%M')"
   ]
  },
  {
   "cell_type": "code",
   "execution_count": null,
   "id": "bd8ea387",
   "metadata": {},
   "outputs": [],
   "source": []
  }
 ],
 "metadata": {
  "direction": "ltr",
  "kernelspec": {
   "display_name": "Python 3 (ipykernel)",
   "language": "python",
   "name": "python3"
  },
  "language_info": {
   "codemirror_mode": {
    "name": "ipython",
    "version": 3
   },
   "file_extension": ".py",
   "mimetype": "text/x-python",
   "name": "python",
   "nbconvert_exporter": "python",
   "pygments_lexer": "ipython3",
   "version": "3.11.5"
  },
  "widgets": {
   "application/vnd.jupyter.widget-state+json": {
    "state": {},
    "version_major": 2,
    "version_minor": 0
   }
  }
 },
 "nbformat": 4,
 "nbformat_minor": 5
}
