{
 "cells": [
  {
   "cell_type": "code",
   "execution_count": 45,
   "id": "f70adbe1",
   "metadata": {
    "collapsed": true
   },
   "outputs": [
    {
     "name": "stdout",
     "output_type": "stream",
     "text": [
      "*\n"
     ]
    }
   ],
   "source": [
    "\"\"\"\n",
    "محاسبه اعداد اعشاری - مسائل و محدودیت ها\n",
    "\n",
    "در سخت افزار کامپیوتر بصورت دو دویی یا باینری محاسبه می شوند Floating-point numbers\n",
    "\n",
    "decimal fraction: کسر ده دهی\n",
    "در سیستم ده دهی اعداد اعشاری به این صورت ارزش بندی میشوند\n",
    "0.625 = 6/10 + 2/100 + 5/1000    <-------------------------]\n",
    "                                                           |\n",
    "binary fraction: کسر باینری - دو دویی                          |\n",
    "در سیستم دودویی هم به این صورت                                   |\n",
    "0.101 = 1/2 + 0/4 + 1/8 = 0.625                            |\n",
    "  |||                                                      |\n",
    "  |||                                                      |\n",
    "  |||                                                      |\n",
    "  |||___ 1 * 2 ^ -3 = 0.125 --]                            |\n",
    "  ||                                                       |\n",
    "  ||___ 0 * 2 ^ -2 = 0      --|----> 0.125 + 0 + 0.5 = 0.625 (بر پایه ده - decimal)\n",
    "  |\n",
    "  |___ 1 * 2 ^ -1 = 0.5     --]\n",
    "\n",
    "پایه 10 و دومی در پایه 2 نوشته شده است (fractional notation) این دو کسر مقادیر یکسانی دارند، تنها تفاوت واقعی این است که اولی با نماد کسری\n",
    " \n",
    "مشکل محاسبه در اعداد اعشاری در پایه 10 خیلی قابل فهم تر است\n",
    "کسر 1/3 را در نظر بگیرید و بخواهیم با پایه 10 تقربی بزنیم\n",
    "میشه:\n",
    "0.3\n",
    "بهترش کنیم\n",
    "0.33\n",
    "یا بهتر:\n",
    "0.333\n",
    "نتیجه هرگز دقیقاً 1/3 نخواهد بود و به آن میتونیم نزدیک شیم\n",
    "\n",
    "در پایه 2 کسر 1/10 بی نهایت تکراری می باشد.\n",
    "0.0001100110011001100110011001100110011001100110011...\n",
    "\n",
    "approximate binary fraction\n",
    "در بیشتر ماشین های امروزی اعداد اعشاری با کمک روش زیر تخمین زده میشن:\n",
    "پنجاه و سه بیت که از مهم ترین بیت شروع میشود و مخرج آن به توان 2 میرسدbinary fraction در صورت کسر \n",
    "\n",
    "ه true decimal value رو به عنوان decimal خیلی از کاربرها به خاطر نحوه نمایش مقادیر از تقریب خبر دار نیستند و پایتون تقریب\n",
    "تقریب باینری ذخیره شده در ماشین را نشان میدهد\n",
    "\n",
    "ذخیره شده برای 0.1 نشان دهد داریم true decimal value of the binary approximation اگر پایتون بخواهد :\n",
    ">>>0.1\n",
    "0.1000000000000000055511151231257827021181583404541015625\n",
    "\n",
    "بنابر این چون بیشتر اعداد برای کاربران کاربرد ندارد، پایتون به جاش رند شدش رو نشون میده.\n",
    "را به هم دارند approximate binary fraction جالب اینجاست که اعداد اعشاری مختلف زیادی وجود دارند که نزدیکترین \n",
    "مانند مثال های زیر:\n",
    "0.1\n",
    "0.10000000000000001\n",
    "0.1000000000000000055511151231257827021181583404541015625\n",
    "\n",
    "که همه 👆 ها را  با 3602879701896397 / 2 ** 55 تقریب زده میشن\n",
    "\"\"\"\n",
    "print('*')"
   ]
  },
  {
   "cell_type": "code",
   "execution_count": 46,
   "id": "2a0c2726",
   "metadata": {
    "collapsed": true
   },
   "outputs": [
    {
     "name": "stdout",
     "output_type": "stream",
     "text": [
      "any one of them could be displayed while still preserving the invariant\n",
      "True\n",
      "0.1\n",
      "0.10000000000000099\n"
     ]
    }
   ],
   "source": [
    "print(\"any one of them could be displayed while still preserving the invariant\")\n",
    "x = 0.10000000000000001\n",
    "y = 0.10000000000000099\n",
    "print(eval(repr(x)) == x)\n",
    "print(x)\n",
    "print(y)"
   ]
  },
  {
   "cell_type": "markdown",
   "id": "11605583",
   "metadata": {
    "direction": "ltr"
   },
   "source": [
    "میاد و 17 تا از مهم ترین اعداد انتخاب میکنه repr() ه built-in از لحاظ تاریخی تابع\n",
    "\n",
    "از زمانی که پایتون 3 اومد کوتاه ترین عدد رو برمیداره و 0.1 خود به خود به جای 0.100000000000001 نشون میده\n",
    "\n",
    "سخت افزار شما پشتیبانی میکنند، چیزهای مشابهی خواهید دید و یک باگ در پایتون نیست floating-point arithmetic در همه زبان هایی که از \n",
    "\n",
    "برای خروجی دلپذیر تر،  ممکن است بخواهید از رشته ها برای تولید تعداد محدودی ارقام قابل توجه و مهم"
   ]
  },
  {
   "cell_type": "code",
   "execution_count": 47,
   "id": "88e1e9f8",
   "metadata": {
    "collapsed": true
   },
   "outputs": [
    {
     "name": "stdout",
     "output_type": "stream",
     "text": [
      "3.14159265359\n",
      "3.14\n",
      "3.141592653589793\n"
     ]
    }
   ],
   "source": [
    "import math\n",
    "\n",
    "print(format(math.pi, \".12g\"))  # give 12 significant digits\n",
    "print(format(math.pi, \".2f\"))  # give 2 digits after the point\n",
    "# میبینیم که تابع زیر 17 تا عدد برمیگردونه\n",
    "print(repr(math.pi))"
   ]
  },
  {
   "cell_type": "markdown",
   "id": "e258a4bd",
   "metadata": {},
   "source": [
    "را گرد میکنید display of the true machine value نکته مهم اینجاست که کلا این مسعله یک توهم است و شما به سادگی \n",
    "\n",
    "یا توهم میتواند توهم های دیگری ایجاد کند illusion یک  \n",
    " \n",
    "از آنجایی که 0.1 دقیقا برابر 1/10 نیست، جمع کردن 3 تا 0.1 دقیقا برابر 0.3 نمی باشد"
   ]
  },
  {
   "cell_type": "code",
   "execution_count": 48,
   "id": "a75cc696",
   "metadata": {
    "collapsed": true
   },
   "outputs": [
    {
     "name": "stdout",
     "output_type": "stream",
     "text": [
      "False\n"
     ]
    }
   ],
   "source": [
    "print(0.1 + 0.1 + 0.1 == 0.3)"
   ]
  },
  {
   "cell_type": "markdown",
   "id": "7578b56a",
   "metadata": {},
   "source": [
    "pre-rounding  \n",
    "هم کمکی برای حل این مسعله نمیکند round() همچنین از آنجایی که 0.1 نمیتواند به 1/10 و 0.3 به 3/10 نزدیک تر شود پس پیش-گرد کردن با تابع"
   ]
  },
  {
   "cell_type": "code",
   "execution_count": 49,
   "id": "0aff1c7e",
   "metadata": {
    "collapsed": true
   },
   "outputs": [
    {
     "name": "stdout",
     "output_type": "stream",
     "text": [
      "False\n"
     ]
    }
   ],
   "source": [
    "print(round(0.1, 1) + round(0.1, 1) + round(0.1, 1) == round(0.3, 1))"
   ]
  },
  {
   "cell_type": "markdown",
   "id": "2c79b2f2",
   "metadata": {},
   "source": [
    "post-rounding:\n",
    "\n",
    "برای پس-گرد کردن راه حل مناسبی هست round() تابع \n",
    "\n",
    "به طوری که نتایج با مقادیر غیر دقیق با یکدیگر قابل مقایسه باشند"
   ]
  },
  {
   "cell_type": "code",
   "execution_count": 50,
   "id": "d1f58b51",
   "metadata": {
    "collapsed": true
   },
   "outputs": [
    {
     "name": "stdout",
     "output_type": "stream",
     "text": [
      "True\n"
     ]
    }
   ],
   "source": [
    "print(round(0.1 + 0.1 + 0.1) == round(0.3))"
   ]
  },
  {
   "cell_type": "markdown",
   "id": "4424fd8d",
   "metadata": {},
   "source": [
    "استفاده کرد decimal برای محاسبه دقیق اعداد اعشاری هنگام برنامه های حساب داری و برنامه های کاربردی با دقت بالا میتوان از ماژول  \n",
    "\n",
    "استفاده کرد زیرا محاسبات رو بر اساس اعداد گویا اجرا میکند fractions یا میتوان از ماژول\n",
    "\n",
    "توسعه داده میشه استفاده کنید SciPy و پکیج های دیگری که توسط پروژه Numpy هستید باید از floating point operations اگر کاربر دائمی  \n",
    "\n",
    "\n",
    "float.as_integer_ratio():\n",
    "\n",
    "بدانید کمک میکند exact value of a float پایتون ابزارهایی را ارائه می دهد که ممکن است در موارد نادری که واقعاً می خواهید\n",
    "\n",
    "برمیگرداند fraction روبه عنوان float این تابع مقدار یک"
   ]
  },
  {
   "cell_type": "code",
   "execution_count": 51,
   "id": "bc84d244",
   "metadata": {
    "collapsed": true
   },
   "outputs": [
    {
     "name": "stdout",
     "output_type": "stream",
     "text": [
      "(3602879701896397, 36028797018963968)\n"
     ]
    }
   ],
   "source": [
    "x1 = 3.14159\n",
    "print(x.as_integer_ratio())"
   ]
  },
  {
   "cell_type": "markdown",
   "id": "a71fe5a4",
   "metadata": {},
   "source": [
    "از آنجایی که نسبت دقیق است، می توان از آن برای بازآفرینی بدون ضرر مقدار اصلی استفاده کرد:"
   ]
  },
  {
   "cell_type": "code",
   "execution_count": 52,
   "id": "0ad94ba1",
   "metadata": {
    "collapsed": true
   },
   "outputs": [
    {
     "name": "stdout",
     "output_type": "stream",
     "text": [
      "True\n"
     ]
    }
   ],
   "source": [
    "print(x1 == 3537115888337719 / 1125899906842624)"
   ]
  },
  {
   "cell_type": "markdown",
   "id": "f41bc006",
   "metadata": {},
   "source": [
    "در پایه هگزادسیمال (پایه 16) بیان می کند، که دوباره مقدار دقیق ذخیره شده توسط رایانه شما را نشان می دهد float یک "
   ]
  },
  {
   "cell_type": "code",
   "execution_count": 62,
   "id": "cff104df",
   "metadata": {},
   "outputs": [
    {
     "name": "stdout",
     "output_type": "stream",
     "text": [
      "0x1.921f9f01b866ep+1\n"
     ]
    }
   ],
   "source": [
    "print(x1.hex())"
   ]
  },
  {
   "cell_type": "markdown",
   "id": "6c799bf5",
   "metadata": {},
   "source": [
    "استفاده کرد value exactly دقیق را میتوان برای بازسازی hexadecimal این نمایش"
   ]
  },
  {
   "cell_type": "code",
   "execution_count": 63,
   "id": "c195187a",
   "metadata": {},
   "outputs": [
    {
     "name": "stdout",
     "output_type": "stream",
     "text": [
      "True\n"
     ]
    }
   ],
   "source": [
    "print(x1 == float.fromhex(\"0x1.921f9f01b866ep+1\"))\n"
   ]
  },
  {
   "cell_type": "markdown",
   "id": "923c15c6",
   "metadata": {},
   "source": [
    "از آنجایی که نمایش دقیق است، برای انتقال مطمئن مقادیر در نسخه های مختلف پایتون (استقلال پلتفرم) و تبادل داده با\n",
    "\n",
    "زبان های دیگری که از فرمت یکسانی پشتیبانی می کنند (مانند جاوا) مفید است\n",
    "\n",
    "م(افت دقت) در حین جمع کردن کاهش پیدا کنه loss-of-precision کمک میکند تا math.fsum() تابع \n",
    "\n",
    "م(ارقام گم شده) در عملیات جمع کردن اضافه میشود. به طوری که خطاها تا جایی جمع نمیشوند که بر کل نهایی تاثیر گذار باشد lost digits"
   ]
  },
  {
   "cell_type": "code",
   "execution_count": 64,
   "id": "ef948be9",
   "metadata": {},
   "outputs": [
    {
     "name": "stdout",
     "output_type": "stream",
     "text": [
      "False\n",
      "True\n"
     ]
    }
   ],
   "source": [
    "print(sum([0.1] * 10) == 1.0)\n",
    "print(math.fsum([0.1] * 10) == 1.0)"
   ]
  },
  {
   "cell_type": "markdown",
   "id": "8f5e76b8",
   "metadata": {},
   "source": [
    "Representation Error\n",
    "\n",
    "در بیشتر کسر ها دقیقا با باینری نمایش داده نمیشودdecimal fractions م(خطای نمایش) به این واقعیت اشاره داره که Representation error\n",
    "\n",
    "چرا 1/10 دقیقاً به عنوان یک کسر باینری قابل نمایش نیست؟\n",
    "\n",
    "استفاده می کنند IEEE-754 تقریباً همه ماشین های امروزی (نوامبر 2000) از محاسبات ممیز شناور \n",
    "\n",
    "استفاده میکند IEEE-754 “double precision” پایتون\n",
    "\n",
    "شامل 53 بیت دقت است\n",
    "\n",
    "J/2 ** N بنابراین در ورودی کامپیوتر تلاش میکند تا 0.1 را به نزدیکترین کسر تبدیل کند که میتواند به این شکل باشد IEEE-754 doubles\n",
    "\n",
    "یک عدد صحیح حاوی 53 بیت است J که در آن\n",
    "\n",
    "بازنویسی\n",
    "\n",
    "1 / 10 ~= J / (2 ** N)\n",
    "\n",
    "خواهد بود\n",
    "\n",
    "J ~= 2 ** N / 10\n",
    "\n",
    "برابر 53 دقیقا بیت خواهد بود J میدانیم که \n",
    "\n",
    "را طوری پیدا کنیم N می باشد باید (>= 2 ** 52 but < 2 ** 53) که در بازه J برابر عدد 53 نیست. برای محاسبه J نکته جالب اینجاست که مهم نیست\n",
    "\n",
    "را دقیقا 53 بیت بگذاردJ که \n",
    "\n",
    "این است که گرد شود J بهترین مقدار ممکن برای\n",
    "\n",
    "در این مثال56 است N بهترین مقدار"
   ]
  },
  {
   "cell_type": "code",
   "execution_count": 65,
   "id": "05352e5d",
   "metadata": {},
   "outputs": [
    {
     "name": "stdout",
     "output_type": "stream",
     "text": [
      "True\n",
      "6\n"
     ]
    }
   ],
   "source": [
    "print(2**52 <= 2**56 // 10 < 2**53)\n",
    "q, r = divmod(2**56, 10)\n",
    "print(r)"
   ]
  },
  {
   "cell_type": "markdown",
   "id": "7356154f",
   "metadata": {},
   "source": [
    "با گرد کردن به دست می آید approximation  از آنجایی که باقی مانده بیش از نیمی از 10 است، بهترین تقریب"
   ]
  },
  {
   "cell_type": "code",
   "execution_count": 66,
   "id": "60cc5e17",
   "metadata": {},
   "outputs": [
    {
     "name": "stdout",
     "output_type": "stream",
     "text": [
      "7205759403792794\n"
     ]
    }
   ],
   "source": [
    "print(q + 1)"
   ]
  },
  {
   "cell_type": "markdown",
   "id": "c2f4ef32",
   "metadata": {},
   "source": [
    "754 double precision در approximation بنابر این بهترین تقریب\n",
    "\n",
    "خواهد بود:"
   ]
  },
  {
   "cell_type": "code",
   "execution_count": 67,
   "id": "8420be2b",
   "metadata": {},
   "outputs": [
    {
     "name": "stdout",
     "output_type": "stream",
     "text": [
      "0.1\n",
      "0.1\n"
     ]
    }
   ],
   "source": [
    "print(7205759403792794 / 2 ** 56)\n",
    "print(3602879701896397 / 2 ** 55)"
   ]
  },
  {
   "cell_type": "markdown",
   "id": "9476f844",
   "metadata": {},
   "source": [
    "توجه داشته باشید که از آنجایی که ما گرد کردیم، این مقدار در واقع کمی بزرگتر از 1/10 است\n",
    "\n",
    "اگر به بالا گرد نمی کردیم، ضریب کمی کوچکتر از 1/10 بود. اما در هیچ موردی نمی تواند دقیقا 1/10 باشد \n",
    "\n",
    "کسر دقیقی) است که در بالا داده شده است ) exact fraction پس هیچ وقت کامیپوتر 1/10 را نمی بیند. آنچه می‌بیند\n",
    "\n",
    "754 double approximation بهترین\n",
    "\n",
    "میتوان از روش زیر بدست آورد.\n",
    "\n",
    "0.1 = J / 2**55 => J = 0.1 * 2 ** 55"
   ]
  },
  {
   "cell_type": "code",
   "execution_count": 68,
   "id": "8fab8e0a",
   "metadata": {},
   "outputs": [
    {
     "name": "stdout",
     "output_type": "stream",
     "text": [
      "3602879701896397.0\n"
     ]
    }
   ],
   "source": [
    "print(0.1 * 2 ** 55)"
   ]
  },
  {
   "cell_type": "markdown",
   "id": "7af68a6c",
   "metadata": {},
   "source": [
    "اگر آن کسر را در 10 ** 55 ضرب کنیم، می توانیم مقدار آن را تا 55 رقم اعشاری ببینیم:"
   ]
  },
  {
   "cell_type": "code",
   "execution_count": 69,
   "id": "7347b153",
   "metadata": {},
   "outputs": [
    {
     "name": "stdout",
     "output_type": "stream",
     "text": [
      "1000000000000000055511151231257827021181583404541015625\n"
     ]
    }
   ],
   "source": [
    "print(3602879701896397 * 10 ** 55 // 2 ** 55)"
   ]
  },
  {
   "cell_type": "markdown",
   "id": "ab7b95a7",
   "metadata": {},
   "source": [
    "به این معنی که عدد دقیق ذخیره شده در کامپیوتر برابر با مقدار اعشاری 0.100000000000000055511151231257827021181583404541015625 است. به جای نمایش مقدار اعشاری کامل، بسیاری از زبان ها (از جمله نسخه های قدیمی پایتون)، نتیجه را به 17 رقم قابل توجه گرد می کنند\n"
   ]
  },
  {
   "cell_type": "code",
   "execution_count": 70,
   "id": "12df6e04",
   "metadata": {},
   "outputs": [
    {
     "name": "stdout",
     "output_type": "stream",
     "text": [
      "0.10000000000000001\n",
      "3602879701896397/36028797018963968\n",
      "(3602879701896397, 36028797018963968)\n",
      "0.1000000000000000055511151231257827021181583404541015625\n",
      "0.10000000000000001\n"
     ]
    }
   ],
   "source": [
    "print(format(0.1, '.17f'))\n",
    "\n",
    "from decimal import Decimal\n",
    "from fractions import Fraction\n",
    "\n",
    "print(Fraction.from_float(0.1))\n",
    "print((0.1).as_integer_ratio())\n",
    "print(Decimal.from_float(0.1))\n",
    "print(format(Decimal.from_float(0.1), '.17'))"
   ]
  }
 ],
 "metadata": {
  "kernelspec": {
   "display_name": "Python 3 (ipykernel)",
   "language": "python",
   "name": "python3"
  },
  "language_info": {
   "codemirror_mode": {
    "name": "ipython",
    "version": 3
   },
   "file_extension": ".py",
   "mimetype": "text/x-python",
   "name": "python",
   "nbconvert_exporter": "python",
   "pygments_lexer": "ipython3",
   "version": "3.11.5"
  }
 },
 "nbformat": 4,
 "nbformat_minor": 5
}
